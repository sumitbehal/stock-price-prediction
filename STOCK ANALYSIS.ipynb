{
 "cells": [
  {
   "cell_type": "code",
   "execution_count": 104,
   "metadata": {},
   "outputs": [
    {
     "name": "stdout",
     "output_type": "stream",
     "text": [
      "Requirement already satisfied: pandas-datareader in /anaconda3/lib/python3.7/site-packages (0.7.4)\n",
      "Requirement already satisfied: pandas>=0.19.2 in /anaconda3/lib/python3.7/site-packages (from pandas-datareader) (0.24.2)\n",
      "Requirement already satisfied: lxml in /anaconda3/lib/python3.7/site-packages (from pandas-datareader) (4.3.4)\n",
      "Requirement already satisfied: wrapt in /anaconda3/lib/python3.7/site-packages (from pandas-datareader) (1.11.2)\n",
      "Requirement already satisfied: requests>=2.3.0 in /anaconda3/lib/python3.7/site-packages (from pandas-datareader) (2.22.0)\n",
      "Requirement already satisfied: numpy>=1.12.0 in /anaconda3/lib/python3.7/site-packages (from pandas>=0.19.2->pandas-datareader) (1.16.4)\n",
      "Requirement already satisfied: pytz>=2011k in /anaconda3/lib/python3.7/site-packages (from pandas>=0.19.2->pandas-datareader) (2019.1)\n",
      "Requirement already satisfied: python-dateutil>=2.5.0 in /anaconda3/lib/python3.7/site-packages (from pandas>=0.19.2->pandas-datareader) (2.8.0)\n",
      "Requirement already satisfied: chardet<3.1.0,>=3.0.2 in /anaconda3/lib/python3.7/site-packages (from requests>=2.3.0->pandas-datareader) (3.0.4)\n",
      "Requirement already satisfied: idna<2.9,>=2.5 in /anaconda3/lib/python3.7/site-packages (from requests>=2.3.0->pandas-datareader) (2.8)\n",
      "Requirement already satisfied: urllib3!=1.25.0,!=1.25.1,<1.26,>=1.21.1 in /anaconda3/lib/python3.7/site-packages (from requests>=2.3.0->pandas-datareader) (1.24.2)\n",
      "Requirement already satisfied: certifi>=2017.4.17 in /anaconda3/lib/python3.7/site-packages (from requests>=2.3.0->pandas-datareader) (2019.6.16)\n",
      "Requirement already satisfied: six>=1.5 in /anaconda3/lib/python3.7/site-packages (from python-dateutil>=2.5.0->pandas>=0.19.2->pandas-datareader) (1.12.0)\n",
      "Note: you may need to restart the kernel to use updated packages.\n"
     ]
    }
   ],
   "source": [
    "pip install pandas-datareader"
   ]
  },
  {
   "cell_type": "code",
   "execution_count": 105,
   "metadata": {},
   "outputs": [
    {
     "name": "stdout",
     "output_type": "stream",
     "text": [
      "Requirement already satisfied: preprocessing in /anaconda3/lib/python3.7/site-packages (0.1.13)\n",
      "Requirement already satisfied: sphinx-rtd-theme==0.2.4 in /anaconda3/lib/python3.7/site-packages (from preprocessing) (0.2.4)\n",
      "Requirement already satisfied: nltk==3.2.4 in /anaconda3/lib/python3.7/site-packages (from preprocessing) (3.2.4)\n",
      "Requirement already satisfied: six in /anaconda3/lib/python3.7/site-packages (from nltk==3.2.4->preprocessing) (1.12.0)\n",
      "Note: you may need to restart the kernel to use updated packages.\n"
     ]
    }
   ],
   "source": [
    "pip install preprocessing"
   ]
  },
  {
   "cell_type": "code",
   "execution_count": 106,
   "metadata": {},
   "outputs": [
    {
     "data": {
      "text/html": [
       "<div>\n",
       "<style scoped>\n",
       "    .dataframe tbody tr th:only-of-type {\n",
       "        vertical-align: middle;\n",
       "    }\n",
       "\n",
       "    .dataframe tbody tr th {\n",
       "        vertical-align: top;\n",
       "    }\n",
       "\n",
       "    .dataframe thead th {\n",
       "        text-align: right;\n",
       "    }\n",
       "</style>\n",
       "<table border=\"1\" class=\"dataframe\">\n",
       "  <thead>\n",
       "    <tr style=\"text-align: right;\">\n",
       "      <th></th>\n",
       "      <th>High</th>\n",
       "      <th>Low</th>\n",
       "      <th>Open</th>\n",
       "      <th>Close</th>\n",
       "      <th>Volume</th>\n",
       "      <th>Adj Close</th>\n",
       "    </tr>\n",
       "    <tr>\n",
       "      <th>Date</th>\n",
       "      <th></th>\n",
       "      <th></th>\n",
       "      <th></th>\n",
       "      <th></th>\n",
       "      <th></th>\n",
       "      <th></th>\n",
       "    </tr>\n",
       "  </thead>\n",
       "  <tbody>\n",
       "    <tr>\n",
       "      <th>2018-01-05</th>\n",
       "      <td>175.369995</td>\n",
       "      <td>173.050003</td>\n",
       "      <td>173.440002</td>\n",
       "      <td>175.000000</td>\n",
       "      <td>23660000.0</td>\n",
       "      <td>170.369385</td>\n",
       "    </tr>\n",
       "    <tr>\n",
       "      <th>2018-01-08</th>\n",
       "      <td>175.610001</td>\n",
       "      <td>173.929993</td>\n",
       "      <td>174.350006</td>\n",
       "      <td>174.350006</td>\n",
       "      <td>20567800.0</td>\n",
       "      <td>169.736588</td>\n",
       "    </tr>\n",
       "    <tr>\n",
       "      <th>2018-01-09</th>\n",
       "      <td>175.059998</td>\n",
       "      <td>173.410004</td>\n",
       "      <td>174.550003</td>\n",
       "      <td>174.330002</td>\n",
       "      <td>21584000.0</td>\n",
       "      <td>169.717117</td>\n",
       "    </tr>\n",
       "    <tr>\n",
       "      <th>2018-01-10</th>\n",
       "      <td>174.300003</td>\n",
       "      <td>173.000000</td>\n",
       "      <td>173.160004</td>\n",
       "      <td>174.289993</td>\n",
       "      <td>23959900.0</td>\n",
       "      <td>169.678162</td>\n",
       "    </tr>\n",
       "    <tr>\n",
       "      <th>2018-01-11</th>\n",
       "      <td>175.490005</td>\n",
       "      <td>174.490005</td>\n",
       "      <td>174.589996</td>\n",
       "      <td>175.279999</td>\n",
       "      <td>18667700.0</td>\n",
       "      <td>170.641968</td>\n",
       "    </tr>\n",
       "  </tbody>\n",
       "</table>\n",
       "</div>"
      ],
      "text/plain": [
       "                  High         Low        Open       Close      Volume  \\\n",
       "Date                                                                     \n",
       "2018-01-05  175.369995  173.050003  173.440002  175.000000  23660000.0   \n",
       "2018-01-08  175.610001  173.929993  174.350006  174.350006  20567800.0   \n",
       "2018-01-09  175.059998  173.410004  174.550003  174.330002  21584000.0   \n",
       "2018-01-10  174.300003  173.000000  173.160004  174.289993  23959900.0   \n",
       "2018-01-11  175.490005  174.490005  174.589996  175.279999  18667700.0   \n",
       "\n",
       "             Adj Close  \n",
       "Date                    \n",
       "2018-01-05  170.369385  \n",
       "2018-01-08  169.736588  \n",
       "2018-01-09  169.717117  \n",
       "2018-01-10  169.678162  \n",
       "2018-01-11  170.641968  "
      ]
     },
     "execution_count": 106,
     "metadata": {},
     "output_type": "execute_result"
    }
   ],
   "source": [
    "import pandas as pd\n",
    "import datetime\n",
    "import pandas_datareader.data as web\n",
    "from pandas import Series, DataFrame\n",
    "\n",
    "\n",
    "start = datetime.datetime(2010, 1, 1)\n",
    "end = datetime.datetime(2018, 1, 11)\n",
    "\n",
    "df = web.DataReader(\"AAPL\", 'yahoo', start, end)\n",
    "df.tail()"
   ]
  },
  {
   "cell_type": "code",
   "execution_count": 107,
   "metadata": {},
   "outputs": [],
   "source": [
    "close_px = df['Adj Close']\n",
    "mavg = close_px.rolling(window=100).mean()"
   ]
  },
  {
   "cell_type": "code",
   "execution_count": 108,
   "metadata": {},
   "outputs": [
    {
     "data": {
      "text/plain": [
       "Date\n",
       "2017-12-28    159.204700\n",
       "2017-12-29    159.305436\n",
       "2018-01-02    159.426200\n",
       "2018-01-03    159.596242\n",
       "2018-01-04    159.753119\n",
       "2018-01-05    159.906184\n",
       "2018-01-08    160.035946\n",
       "2018-01-09    160.171818\n",
       "2018-01-10    160.337276\n",
       "2018-01-11    160.515863\n",
       "Name: Adj Close, dtype: float64"
      ]
     },
     "execution_count": 108,
     "metadata": {},
     "output_type": "execute_result"
    }
   ],
   "source": [
    "mavg.tail(10)"
   ]
  },
  {
   "cell_type": "code",
   "execution_count": 109,
   "metadata": {},
   "outputs": [
    {
     "data": {
      "text/plain": [
       "<matplotlib.legend.Legend at 0x1a2bcc79e8>"
      ]
     },
     "execution_count": 109,
     "metadata": {},
     "output_type": "execute_result"
    },
    {
     "data": {
      "image/png": "[encoded data removed]",
      "text/plain": [
       "<Figure size 576x504 with 1 Axes>"
      ]
     },
     "metadata": {},
     "output_type": "display_data"
    }
   ],
   "source": [
    "import matplotlib.pyplot as plt\n",
    "import seaborn as sns\n",
    "plt.rc('figure', figsize=(8, 7))\n",
    "sns.set_style(\"darkgrid\")\n",
    "plt.plot(close_px,label='AAPL')\n",
    "plt.plot(mavg,label='mavg')\n",
    "plt.legend()\n"
   ]
  },
  {
   "cell_type": "code",
   "execution_count": 110,
   "metadata": {},
   "outputs": [],
   "source": [
    "dfreg = df.loc[:,['Adj Close','Volume']]\n",
    "dfreg['HL_PCT'] = (df['High'] - df['Low']) / df['Close'] * 100.0\n",
    "dfreg['PCT_change'] = (df['Close'] - df['Open']) / df['Open'] * 100.0"
   ]
  },
  {
   "cell_type": "code",
   "execution_count": 111,
   "metadata": {},
   "outputs": [],
   "source": [
    "import numpy as np\n",
    "import math\n",
    "import sklearn\n",
    "from sklearn import preprocessing\n",
    "from sklearn.preprocessing import scale\n",
    "# Drop missing value\n",
    "dfreg.fillna(value=-99999, inplace=True)\n",
    "# We want to separate 1 percent of the data to forecast\n",
    "forecast_out = int(math.ceil(0.01 * len(dfreg)))\n",
    "# Separating the label here, we want to predict the AdjClose\n",
    "forecast_col = 'Adj Close'\n",
    "dfreg['label'] = dfreg[forecast_col].shift(-forecast_out)\n",
    "X = np.array(dfreg.drop(['label'], 1))\n",
    "# Scale the X so that everyone can have the same distribution for linear regression\n",
    "X = preprocessing.scale(X)\n",
    "# Finally We want to find Data Series of late X and early X (train) for model generation and evaluation\n",
    "X_lately = X[-forecast_out:]\n",
    "X = X[:-forecast_out]\n",
    "# Separate label and identify it as y\n",
    "y = np.array(dfreg['label'])\n",
    "y = y[:-forecast_out]"
   ]
  },
  {
   "cell_type": "code",
   "execution_count": 112,
   "metadata": {},
   "outputs": [],
   "source": [
    "from sklearn.linear_model import LinearRegression\n",
    "from sklearn.neighbors import KNeighborsRegressor\n",
    "from sklearn.model_selection import train_test_split\n",
    "\n",
    "from sklearn.linear_model import Ridge\n",
    "from sklearn.linear_model import Lasso\n",
    "from sklearn.preprocessing import PolynomialFeatures\n",
    "from sklearn.pipeline import make_pipeline"
   ]
  },
  {
   "cell_type": "code",
   "execution_count": 113,
   "metadata": {},
   "outputs": [],
   "source": [
    "X_train, X_test, y_train, y_test = train_test_split(X, y, test_size=0.2)"
   ]
  },
  {
   "cell_type": "code",
   "execution_count": 114,
   "metadata": {},
   "outputs": [
    {
     "data": {
      "text/plain": [
       "KNeighborsRegressor(algorithm='auto', leaf_size=30, metric='minkowski',\n",
       "                    metric_params=None, n_jobs=None, n_neighbors=2, p=2,\n",
       "                    weights='uniform')"
      ]
     },
     "execution_count": 114,
     "metadata": {},
     "output_type": "execute_result"
    }
   ],
   "source": [
    "# Linear regression\n",
    "clfreg = LinearRegression(n_jobs=-1)\n",
    "clfreg.fit(X_train, y_train)\n",
    "# Quadratic Regression 2\n",
    "clfpoly2 = make_pipeline(PolynomialFeatures(2), Ridge())\n",
    "clfpoly2.fit(X_train, y_train)\n",
    "\n",
    "# Quadratic Regression 3\n",
    "clfpoly3 = make_pipeline(PolynomialFeatures(3), Lasso())\n",
    "clfpoly3.fit(X_train, y_train)\n",
    "\n",
    "# KNN Regression\n",
    "clfknn = KNeighborsRegressor(n_neighbors=2)\n",
    "clfknn.fit(X_train, y_train)"
   ]
  },
  {
   "cell_type": "code",
   "execution_count": 115,
   "metadata": {},
   "outputs": [
    {
     "name": "stdout",
     "output_type": "stream",
     "text": [
      "The linear regression confidence is  0.972392726638451\n",
      "The quadratic regression 2 confidence is  0.9728396778181093\n",
      "The quadratic regression 3 confidence is  0.9713842938728099\n",
      "The knn regression confidence is  0.957992495302561\n"
     ]
    }
   ],
   "source": [
    "confidencereg = clfreg.score(X_test, y_test)\n",
    "confidencepoly2 = clfpoly2.score(X_test,y_test)\n",
    "confidencepoly3 = clfpoly3.score(X_test,y_test)\n",
    "confidenceknn = clfknn.score(X_test, y_test)\n",
    "# results\n",
    "print('The linear regression confidence is ',confidencereg)\n",
    "print('The quadratic regression 2 confidence is ',confidencepoly2)\n",
    "print('The quadratic regression 3 confidence is ',confidencepoly3)\n",
    "print('The knn regression confidence is ',confidenceknn)"
   ]
  },
  {
   "cell_type": "code",
   "execution_count": 116,
   "metadata": {},
   "outputs": [],
   "source": [
    "forecast_set = clfreg.predict(X_lately)\n",
    "dfreg['Forecast'] = np.nan\n"
   ]
  },
  {
   "cell_type": "code",
   "execution_count": 117,
   "metadata": {},
   "outputs": [
    {
     "data": {
      "image/png": "[encoded data removed]",
      "text/plain": [
       "<Figure size 576x504 with 1 Axes>"
      ]
     },
     "metadata": {},
     "output_type": "display_data"
    }
   ],
   "source": [
    "last_date = dfreg.iloc[-1].name\n",
    "last_unix = last_date\n",
    "next_unix = last_unix + datetime.timedelta(days=1)\n",
    "\n",
    "for i in forecast_set:\n",
    "    next_date = next_unix\n",
    "    next_unix += datetime.timedelta(days=1)\n",
    "    dfreg.loc[next_date] = [np.nan for _ in range(len(dfreg.columns)-1)]+[i]\n",
    "dfreg['Adj Close'].tail(500).plot()\n",
    "dfreg['Forecast'].tail(500).plot()\n",
    "plt.legend(loc=4)\n",
    "plt.xlabel('Date')\n",
    "plt.ylabel('Price')\n",
    "plt.show()"
   ]
  },
  {
   "cell_type": "code",
   "execution_count": null,
   "metadata": {},
   "outputs": [],
   "source": []
  }
 ],
 "metadata": {
  "kernelspec": {
   "display_name": "Python 3",
   "language": "python",
   "name": "python3"
  },
  "language_info": {
   "codemirror_mode": {
    "name": "ipython",
    "version": 3
   },
   "file_extension": ".py",
   "mimetype": "text/x-python",
   "name": "python",
   "nbconvert_exporter": "python",
   "pygments_lexer": "ipython3",
   "version": "3.7.3"
  }
 },
 "nbformat": 4,
 "nbformat_minor": 2
}
